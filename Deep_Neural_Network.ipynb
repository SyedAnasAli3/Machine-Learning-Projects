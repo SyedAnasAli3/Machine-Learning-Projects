{
  "nbformat": 4,
  "nbformat_minor": 0,
  "metadata": {
    "colab": {
      "name": "Deep Neural Network.ipynb",
      "provenance": [],
      "collapsed_sections": [],
      "authorship_tag": "ABX9TyNnopcsOkkWgfqVeXoKuuFD",
      "include_colab_link": true
    },
    "kernelspec": {
      "name": "python3",
      "display_name": "Python 3"
    }
  },
  "cells": [
    {
      "cell_type": "markdown",
      "metadata": {
        "id": "view-in-github",
        "colab_type": "text"
      },
      "source": [
        "<a href=\"https://colab.research.google.com/github/SyedAnasAli3/Machine-Learning-Projects/blob/main/Deep_Neural_Network.ipynb\" target=\"_parent\"><img src=\"https://colab.research.google.com/assets/colab-badge.svg\" alt=\"Open In Colab\"/></a>"
      ]
    },
    {
      "cell_type": "code",
      "metadata": {
        "id": "LkzO0fF_urxo",
        "colab": {
          "base_uri": "https://localhost:8080/",
          "height": 34
        },
        "outputId": "7c50f704-1539-4431-b3d0-03276c084111"
      },
      "source": [
        "import numpy as np\n",
        "import matplotlib.pyplot as plt\n",
        "from sklearn import datasets\n",
        "import keras\n",
        "from keras.models import Sequential\n",
        "from keras.layers import Dense\n",
        "from keras.optimizers import Adam\n",
        "np.random.seed(0)"
      ],
      "execution_count": null,
      "outputs": [
        {
          "output_type": "stream",
          "text": [
            "Using TensorFlow backend.\n"
          ],
          "name": "stderr"
        }
      ]
    },
    {
      "cell_type": "code",
      "metadata": {
        "id": "e_zyrgzpwbaz",
        "colab": {
          "base_uri": "https://localhost:8080/",
          "height": 282
        },
        "outputId": "19ea0183-9ca5-437b-c9c9-14f34f4605b7"
      },
      "source": [
        "n_pts = 500\n",
        "X, y = datasets.make_circles(n_samples = n_pts, random_state = 123, noise = 0.1 ,factor = 0.2 )\n",
        "# print(X) \n",
        "# print(y)\n",
        "\n",
        "plt.scatter(X[y==0,0], X[y==0,1])\n",
        "plt.scatter(X[y==1,0], X[y==1,1])\n"
      ],
      "execution_count": null,
      "outputs": [
        {
          "output_type": "execute_result",
          "data": {
            "text/plain": [
              "<matplotlib.collections.PathCollection at 0x7f8644882630>"
            ]
          },
          "metadata": {
            "tags": []
          },
          "execution_count": 2
        },
        {
          "output_type": "display_data",
          "data": {
            "image/png": "[encoded data removed]",
            "text/plain": [
              "<Figure size 432x288 with 1 Axes>"
            ]
          },
          "metadata": {
            "tags": [],
            "needs_background": "light"
          }
        }
      ]
    },
    {
      "cell_type": "code",
      "metadata": {
        "id": "lqWo80o-wjt6"
      },
      "source": [
        "model =  Sequential()\n",
        "model.add(Dense(4, input_shape=(2,), activation = 'sigmoid'))\n",
        "model.add(Dense(1, activation = 'sigmoid'))\n",
        "model.compile(Adam(lr = 0.01), 'binary_crossentropy', metrics = ['accuracy'])"
      ],
      "execution_count": null,
      "outputs": []
    },
    {
      "cell_type": "code",
      "metadata": {
        "id": "Agk_DUrDCKJu",
        "colab": {
          "base_uri": "https://localhost:8080/",
          "height": 1000
        },
        "outputId": "153637e4-fa3f-45c0-b399-3d3e0f0022d6"
      },
      "source": [
        "h = model.fit(x = X, y = y, verbose = 1, batch_size = 20, epochs = 100, shuffle = 'true')"
      ],
      "execution_count": null,
      "outputs": [
        {
          "output_type": "stream",
          "text": [
            "Epoch 1/100\n",
            "500/500 [==============================] - 0s 252us/step - loss: 0.6959 - accuracy: 0.5100\n",
            "Epoch 2/100\n",
            "500/500 [==============================] - 0s 61us/step - loss: 0.6937 - accuracy: 0.6200\n",
            "Epoch 3/100\n",
            "500/500 [==============================] - 0s 68us/step - loss: 0.6925 - accuracy: 0.5140\n",
            "Epoch 4/100\n",
            "500/500 [==============================] - 0s 67us/step - loss: 0.6916 - accuracy: 0.6780\n",
            "Epoch 5/100\n",
            "500/500 [==============================] - 0s 58us/step - loss: 0.6905 - accuracy: 0.6300\n",
            "Epoch 6/100\n",
            "500/500 [==============================] - 0s 65us/step - loss: 0.6890 - accuracy: 0.3620\n",
            "Epoch 7/100\n",
            "500/500 [==============================] - 0s 56us/step - loss: 0.6865 - accuracy: 0.6460\n",
            "Epoch 8/100\n",
            "500/500 [==============================] - 0s 71us/step - loss: 0.6838 - accuracy: 0.6740\n",
            "Epoch 9/100\n",
            "500/500 [==============================] - 0s 60us/step - loss: 0.6795 - accuracy: 0.7580\n",
            "Epoch 10/100\n",
            "500/500 [==============================] - 0s 58us/step - loss: 0.6733 - accuracy: 0.7980\n",
            "Epoch 11/100\n",
            "500/500 [==============================] - 0s 69us/step - loss: 0.6658 - accuracy: 0.8400\n",
            "Epoch 12/100\n",
            "500/500 [==============================] - 0s 72us/step - loss: 0.6545 - accuracy: 0.8600\n",
            "Epoch 13/100\n",
            "500/500 [==============================] - 0s 71us/step - loss: 0.6419 - accuracy: 0.8780\n",
            "Epoch 14/100\n",
            "500/500 [==============================] - 0s 57us/step - loss: 0.6266 - accuracy: 0.8920\n",
            "Epoch 15/100\n",
            "500/500 [==============================] - 0s 58us/step - loss: 0.6074 - accuracy: 0.8800\n",
            "Epoch 16/100\n",
            "500/500 [==============================] - 0s 66us/step - loss: 0.5879 - accuracy: 0.8700\n",
            "Epoch 17/100\n",
            "500/500 [==============================] - 0s 62us/step - loss: 0.5672 - accuracy: 0.8840\n",
            "Epoch 18/100\n",
            "500/500 [==============================] - 0s 58us/step - loss: 0.5438 - accuracy: 0.8560\n",
            "Epoch 19/100\n",
            "500/500 [==============================] - 0s 60us/step - loss: 0.5216 - accuracy: 0.8860\n",
            "Epoch 20/100\n",
            "500/500 [==============================] - 0s 70us/step - loss: 0.4973 - accuracy: 0.8880\n",
            "Epoch 21/100\n",
            "500/500 [==============================] - 0s 75us/step - loss: 0.4748 - accuracy: 0.8880\n",
            "Epoch 22/100\n",
            "500/500 [==============================] - 0s 80us/step - loss: 0.4520 - accuracy: 0.8920\n",
            "Epoch 23/100\n",
            "500/500 [==============================] - 0s 64us/step - loss: 0.4298 - accuracy: 0.8920\n",
            "Epoch 24/100\n",
            "500/500 [==============================] - 0s 63us/step - loss: 0.4090 - accuracy: 0.9040\n",
            "Epoch 25/100\n",
            "500/500 [==============================] - 0s 60us/step - loss: 0.3896 - accuracy: 0.9000\n",
            "Epoch 26/100\n",
            "500/500 [==============================] - 0s 60us/step - loss: 0.3698 - accuracy: 0.9140\n",
            "Epoch 27/100\n",
            "500/500 [==============================] - 0s 58us/step - loss: 0.3514 - accuracy: 0.9100\n",
            "Epoch 28/100\n",
            "500/500 [==============================] - 0s 63us/step - loss: 0.3342 - accuracy: 0.9160\n",
            "Epoch 29/100\n",
            "500/500 [==============================] - 0s 63us/step - loss: 0.3174 - accuracy: 0.9180\n",
            "Epoch 30/100\n",
            "500/500 [==============================] - 0s 60us/step - loss: 0.3019 - accuracy: 0.9220\n",
            "Epoch 31/100\n",
            "500/500 [==============================] - 0s 53us/step - loss: 0.2869 - accuracy: 0.9240\n",
            "Epoch 32/100\n",
            "500/500 [==============================] - 0s 60us/step - loss: 0.2733 - accuracy: 0.9320\n",
            "Epoch 33/100\n",
            "500/500 [==============================] - 0s 57us/step - loss: 0.2604 - accuracy: 0.9420\n",
            "Epoch 34/100\n",
            "500/500 [==============================] - 0s 60us/step - loss: 0.2484 - accuracy: 0.9440\n",
            "Epoch 35/100\n",
            "500/500 [==============================] - 0s 58us/step - loss: 0.2368 - accuracy: 0.9640\n",
            "Epoch 36/100\n",
            "500/500 [==============================] - 0s 73us/step - loss: 0.2256 - accuracy: 0.9800\n",
            "Epoch 37/100\n",
            "500/500 [==============================] - 0s 64us/step - loss: 0.2158 - accuracy: 0.9860\n",
            "Epoch 38/100\n",
            "500/500 [==============================] - 0s 59us/step - loss: 0.2058 - accuracy: 0.9860\n",
            "Epoch 39/100\n",
            "500/500 [==============================] - 0s 59us/step - loss: 0.1965 - accuracy: 0.9900\n",
            "Epoch 40/100\n",
            "500/500 [==============================] - 0s 63us/step - loss: 0.1874 - accuracy: 0.9940\n",
            "Epoch 41/100\n",
            "500/500 [==============================] - 0s 68us/step - loss: 0.1791 - accuracy: 0.9940\n",
            "Epoch 42/100\n",
            "500/500 [==============================] - 0s 59us/step - loss: 0.1711 - accuracy: 0.9940\n",
            "Epoch 43/100\n",
            "500/500 [==============================] - 0s 59us/step - loss: 0.1635 - accuracy: 0.9960\n",
            "Epoch 44/100\n",
            "500/500 [==============================] - 0s 57us/step - loss: 0.1561 - accuracy: 0.9960\n",
            "Epoch 45/100\n",
            "500/500 [==============================] - 0s 57us/step - loss: 0.1491 - accuracy: 0.9960\n",
            "Epoch 46/100\n",
            "500/500 [==============================] - 0s 56us/step - loss: 0.1420 - accuracy: 0.9960\n",
            "Epoch 47/100\n",
            "500/500 [==============================] - 0s 58us/step - loss: 0.1352 - accuracy: 0.9960\n",
            "Epoch 48/100\n",
            "500/500 [==============================] - 0s 59us/step - loss: 0.1282 - accuracy: 0.9960\n",
            "Epoch 49/100\n",
            "500/500 [==============================] - 0s 56us/step - loss: 0.1212 - accuracy: 0.9960\n",
            "Epoch 50/100\n",
            "500/500 [==============================] - 0s 63us/step - loss: 0.1147 - accuracy: 0.9960\n",
            "Epoch 51/100\n",
            "500/500 [==============================] - 0s 65us/step - loss: 0.1080 - accuracy: 0.9960\n",
            "Epoch 52/100\n",
            "500/500 [==============================] - 0s 60us/step - loss: 0.1021 - accuracy: 0.9960\n",
            "Epoch 53/100\n",
            "500/500 [==============================] - 0s 55us/step - loss: 0.0965 - accuracy: 0.9960\n",
            "Epoch 54/100\n",
            "500/500 [==============================] - 0s 69us/step - loss: 0.0913 - accuracy: 0.9960\n",
            "Epoch 55/100\n",
            "500/500 [==============================] - 0s 58us/step - loss: 0.0866 - accuracy: 0.9960\n",
            "Epoch 56/100\n",
            "500/500 [==============================] - 0s 59us/step - loss: 0.0823 - accuracy: 0.9960\n",
            "Epoch 57/100\n",
            "500/500 [==============================] - 0s 60us/step - loss: 0.0783 - accuracy: 0.9980\n",
            "Epoch 58/100\n",
            "500/500 [==============================] - 0s 56us/step - loss: 0.0746 - accuracy: 0.9980\n",
            "Epoch 59/100\n",
            "500/500 [==============================] - 0s 55us/step - loss: 0.0713 - accuracy: 0.9980\n",
            "Epoch 60/100\n",
            "500/500 [==============================] - 0s 63us/step - loss: 0.0682 - accuracy: 0.9980\n",
            "Epoch 61/100\n",
            "500/500 [==============================] - 0s 56us/step - loss: 0.0653 - accuracy: 0.9980\n",
            "Epoch 62/100\n",
            "500/500 [==============================] - 0s 56us/step - loss: 0.0626 - accuracy: 0.9980\n",
            "Epoch 63/100\n",
            "500/500 [==============================] - 0s 56us/step - loss: 0.0601 - accuracy: 0.9980\n",
            "Epoch 64/100\n",
            "500/500 [==============================] - 0s 54us/step - loss: 0.0578 - accuracy: 0.9980\n",
            "Epoch 65/100\n",
            "500/500 [==============================] - 0s 55us/step - loss: 0.0556 - accuracy: 0.9980\n",
            "Epoch 66/100\n",
            "500/500 [==============================] - 0s 57us/step - loss: 0.0536 - accuracy: 0.9980\n",
            "Epoch 67/100\n",
            "500/500 [==============================] - 0s 64us/step - loss: 0.0518 - accuracy: 0.9980\n",
            "Epoch 68/100\n",
            "500/500 [==============================] - 0s 63us/step - loss: 0.0499 - accuracy: 0.9980\n",
            "Epoch 69/100\n",
            "500/500 [==============================] - 0s 60us/step - loss: 0.0483 - accuracy: 0.9980\n",
            "Epoch 70/100\n",
            "500/500 [==============================] - 0s 56us/step - loss: 0.0467 - accuracy: 0.9980\n",
            "Epoch 71/100\n",
            "500/500 [==============================] - 0s 55us/step - loss: 0.0452 - accuracy: 0.9980\n",
            "Epoch 72/100\n",
            "500/500 [==============================] - 0s 57us/step - loss: 0.0438 - accuracy: 0.9980\n",
            "Epoch 73/100\n",
            "500/500 [==============================] - 0s 59us/step - loss: 0.0424 - accuracy: 0.9980\n",
            "Epoch 74/100\n",
            "500/500 [==============================] - 0s 56us/step - loss: 0.0411 - accuracy: 0.9980\n",
            "Epoch 75/100\n",
            "500/500 [==============================] - 0s 57us/step - loss: 0.0399 - accuracy: 0.9980\n",
            "Epoch 76/100\n",
            "500/500 [==============================] - 0s 64us/step - loss: 0.0387 - accuracy: 0.9980\n",
            "Epoch 77/100\n",
            "500/500 [==============================] - 0s 57us/step - loss: 0.0377 - accuracy: 0.9980\n",
            "Epoch 78/100\n",
            "500/500 [==============================] - 0s 58us/step - loss: 0.0366 - accuracy: 0.9980\n",
            "Epoch 79/100\n",
            "500/500 [==============================] - 0s 57us/step - loss: 0.0356 - accuracy: 0.9980\n",
            "Epoch 80/100\n",
            "500/500 [==============================] - 0s 56us/step - loss: 0.0347 - accuracy: 0.9980\n",
            "Epoch 81/100\n",
            "500/500 [==============================] - 0s 61us/step - loss: 0.0339 - accuracy: 0.9980\n",
            "Epoch 82/100\n",
            "500/500 [==============================] - 0s 55us/step - loss: 0.0329 - accuracy: 0.9980\n",
            "Epoch 83/100\n",
            "500/500 [==============================] - 0s 58us/step - loss: 0.0320 - accuracy: 0.9980\n",
            "Epoch 84/100\n",
            "500/500 [==============================] - 0s 67us/step - loss: 0.0312 - accuracy: 0.9980\n",
            "Epoch 85/100\n",
            "500/500 [==============================] - 0s 60us/step - loss: 0.0305 - accuracy: 0.9980\n",
            "Epoch 86/100\n",
            "500/500 [==============================] - 0s 58us/step - loss: 0.0297 - accuracy: 1.0000\n",
            "Epoch 87/100\n",
            "500/500 [==============================] - 0s 63us/step - loss: 0.0290 - accuracy: 1.0000\n",
            "Epoch 88/100\n",
            "500/500 [==============================] - 0s 56us/step - loss: 0.0283 - accuracy: 1.0000\n",
            "Epoch 89/100\n",
            "500/500 [==============================] - 0s 57us/step - loss: 0.0276 - accuracy: 1.0000\n",
            "Epoch 90/100\n",
            "500/500 [==============================] - 0s 58us/step - loss: 0.0270 - accuracy: 1.0000\n",
            "Epoch 91/100\n",
            "500/500 [==============================] - 0s 57us/step - loss: 0.0264 - accuracy: 1.0000\n",
            "Epoch 92/100\n",
            "500/500 [==============================] - 0s 63us/step - loss: 0.0258 - accuracy: 1.0000\n",
            "Epoch 93/100\n",
            "500/500 [==============================] - 0s 61us/step - loss: 0.0252 - accuracy: 1.0000\n",
            "Epoch 94/100\n",
            "500/500 [==============================] - 0s 59us/step - loss: 0.0247 - accuracy: 1.0000\n",
            "Epoch 95/100\n",
            "500/500 [==============================] - 0s 63us/step - loss: 0.0242 - accuracy: 1.0000\n",
            "Epoch 96/100\n",
            "500/500 [==============================] - 0s 59us/step - loss: 0.0236 - accuracy: 1.0000\n",
            "Epoch 97/100\n",
            "500/500 [==============================] - 0s 58us/step - loss: 0.0232 - accuracy: 1.0000\n",
            "Epoch 98/100\n",
            "500/500 [==============================] - 0s 57us/step - loss: 0.0227 - accuracy: 1.0000\n",
            "Epoch 99/100\n",
            "500/500 [==============================] - 0s 56us/step - loss: 0.0222 - accuracy: 1.0000\n",
            "Epoch 100/100\n",
            "500/500 [==============================] - 0s 55us/step - loss: 0.0217 - accuracy: 1.0000\n"
          ],
          "name": "stdout"
        }
      ]
    },
    {
      "cell_type": "code",
      "metadata": {
        "id": "3eN4F1CyD7sr",
        "colab": {
          "base_uri": "https://localhost:8080/",
          "height": 296
        },
        "outputId": "ae82c4b3-adde-4911-88bb-1101f96947f7"
      },
      "source": [
        "plt.plot(h.history['accuracy'])\n",
        "plt.legend(['accuracy'])\n",
        "plt.ylabel('accuracy')\n",
        "plt.xlabel('epoch')\n"
      ],
      "execution_count": null,
      "outputs": [
        {
          "output_type": "execute_result",
          "data": {
            "text/plain": [
              "Text(0.5, 0, 'epoch')"
            ]
          },
          "metadata": {
            "tags": []
          },
          "execution_count": 5
        },
        {
          "output_type": "display_data",
          "data": {
            "image/png": "[encoded data removed]",
            "text/plain": [
              "<Figure size 432x288 with 1 Axes>"
            ]
          },
          "metadata": {
            "tags": [],
            "needs_background": "light"
          }
        }
      ]
    },
    {
      "cell_type": "code",
      "metadata": {
        "id": "CVxqxsWCD8UW",
        "colab": {
          "base_uri": "https://localhost:8080/",
          "height": 312
        },
        "outputId": "7bb05f95-cd43-4d78-809e-da91330ff718"
      },
      "source": [
        "plt.plot(h.history['loss'])\n",
        "plt.legend(['loss'])\n",
        "plt.title('loss')\n",
        "plt.xlabel('epoch')"
      ],
      "execution_count": null,
      "outputs": [
        {
          "output_type": "execute_result",
          "data": {
            "text/plain": [
              "Text(0.5, 0, 'epoch')"
            ]
          },
          "metadata": {
            "tags": []
          },
          "execution_count": 6
        },
        {
          "output_type": "display_data",
          "data": {
            "image/png": "[encoded data removed]",
            "text/plain": [
              "<Figure size 432x288 with 1 Axes>"
            ]
          },
          "metadata": {
            "tags": [],
            "needs_background": "light"
          }
        }
      ]
    },
    {
      "cell_type": "code",
      "metadata": {
        "id": "GcUfWtLlD8ko"
      },
      "source": [
        "def plot_decision_boundary(X, y, model):\n",
        "    x_span = np.linspace(min(X[:,0]) - 0.25, max(X[:,0]) + 0.25)\n",
        "    y_span = np.linspace(min(X[:,1]) - 0.25, max(X[:,1]) + 0.25)\n",
        "    xx, yy = np.meshgrid(x_span, y_span)\n",
        "    grid = np.c_[xx.ravel(), yy.ravel()]\n",
        "    pred_func = model.predict(grid)\n",
        "    z = pred_func.reshape(xx.shape)\n",
        "    plt.contourf(xx, yy, z)"
      ],
      "execution_count": null,
      "outputs": []
    },
    {
      "cell_type": "code",
      "metadata": {
        "id": "gRt9K2jaCwCs",
        "colab": {
          "base_uri": "https://localhost:8080/",
          "height": 282
        },
        "outputId": "8395d6f3-2693-4739-e7df-ad2329728ac7"
      },
      "source": [
        "plot_decision_boundary(X, y, model)\n",
        "plt.scatter(X[y==0, 0], X[y==0, 1])\n",
        "plt.scatter(X[y==1, 0], X[y==1, 1])\n"
      ],
      "execution_count": null,
      "outputs": [
        {
          "output_type": "execute_result",
          "data": {
            "text/plain": [
              "<matplotlib.collections.PathCollection at 0x7f863cf5d828>"
            ]
          },
          "metadata": {
            "tags": []
          },
          "execution_count": 8
        },
        {
          "output_type": "display_data",
          "data": {
            "image/png": "[encoded data removed]",
            "text/plain": [
              "<Figure size 432x288 with 1 Axes>"
            ]
          },
          "metadata": {
            "tags": [],
            "needs_background": "light"
          }
        }
      ]
    },
    {
      "cell_type": "code",
      "metadata": {
        "id": "5MzhJca_Ehp0",
        "colab": {
          "base_uri": "https://localhost:8080/",
          "height": 299
        },
        "outputId": "d2f1a7df-865a-4806-9a23-c17ae814cf54"
      },
      "source": [
        "plot_decision_boundary(X, y, model)\n",
        "plt.scatter(X[y==0, 0], X[y==0, 1])\n",
        "plt.scatter(X[y==1, 0], X[y==1, 1])\n",
        " \n",
        "x1 = 0\n",
        "y1 = 0.75\n",
        "x2 = 0.4\n",
        "y2 = 0.45\n",
        "\n",
        "point1 = np.array([[x1, y1]])\n",
        "point2 = np.array([[x2, y2]])\n",
        "predict1 = model.predict(point1)\n",
        "predict2 = model.predict(point2)\n",
        "plt.plot([x1], [y1], marker='o', markersize=10, color=\"red\")\n",
        "plt.plot([x2], [y2], marker='o', markersize=10, color=\"green\")\n",
        "print(\"Prediction1 is: \", predict1)\n",
        "print(\"Prediction2 is: \", predict2)"
      ],
      "execution_count": null,
      "outputs": [
        {
          "output_type": "stream",
          "text": [
            "Prediction1 is:  [[0.0254417]]\n",
            "Prediction2 is:  [[0.52833045]]\n"
          ],
          "name": "stdout"
        },
        {
          "output_type": "display_data",
          "data": {
            "image/png": "[encoded data removed]",
            "text/plain": [
              "<Figure size 432x288 with 1 Axes>"
            ]
          },
          "metadata": {
            "tags": [],
            "needs_background": "light"
          }
        }
      ]
    },
    {
      "cell_type": "code",
      "metadata": {
        "id": "8XHwbbqEI43F",
        "colab": {
          "base_uri": "https://localhost:8080/",
          "height": 68
        },
        "outputId": "f3412123-6850-4280-9fe2-c07c880142d3"
      },
      "source": [
        "line_params = np.matrix(np.zeros(3)).T \n",
        "print(line_params)"
      ],
      "execution_count": null,
      "outputs": [
        {
          "output_type": "stream",
          "text": [
            "[[0.]\n",
            " [0.]\n",
            " [0.]]\n"
          ],
          "name": "stdout"
        }
      ]
    },
    {
      "cell_type": "code",
      "metadata": {
        "id": "yNOdMumbJRDC"
      },
      "source": [
        ""
      ],
      "execution_count": null,
      "outputs": []
    }
  ]
}